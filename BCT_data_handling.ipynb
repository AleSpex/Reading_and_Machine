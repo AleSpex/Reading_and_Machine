{
 "cells": [
  {
   "cell_type": "code",
   "execution_count": null,
   "id": "f31731fb-caae-430e-a79a-1afb8d9940be",
   "metadata": {},
   "outputs": [
    {
     "name": "stderr",
     "output_type": "stream",
     "text": [
      "                                                                                \r"
     ]
    }
   ],
   "source": [
    "from pyspark.sql.functions import substring_index, col\n",
    "from pyspark.sql import SparkSession, Row\n",
    "import re\n",
    "import pandas as pd\n",
    "from pyspark.sql import functions as F, Window\n",
    "import unidecode\n",
    "from pyspark.sql.functions import isnan, when, count, col, isnull\n",
    "import matplotlib.pyplot as plt\n",
    "#############################################\n",
    "#            read data                      # \n",
    "#############################################\n",
    "\n",
    "file = \"/data/SMARTDATA/books/BCT_prestiti/patrons.csv\"\n",
    "DFusers = spark.read.csv(file,header=True)\n",
    "#DFusers.show(5, False)\n",
    "\n",
    "file = \"/data/SMARTDATA/books/BCT_prestiti/items.csv\"\n",
    "DFitems = spark.read.csv(file,header=True)\n",
    "# DFitems.show(5, False)\n",
    "\n",
    "file = \"/data/SMARTDATA/books/BCT_prestiti/item_media_types.csv\"\n",
    "DFtypes = spark.read.csv(file,header=True)\n",
    "# DFtypes.show()\n",
    "\n",
    "file = \"/data/SMARTDATA/books/BCT_prestiti/manifestations.csv\"\n",
    "DFmanifestations = spark.read.csv(file,header=True)\n",
    "\n",
    "# DFmanifestations = DFmanifestations.filter(DFmanifestations.title.contains(\"Il mio credo\"))\n",
    "# DFmanifestations.show(5, False)\n",
    "\n",
    "file = \"/data/SMARTDATA/books/BCT_prestiti/loans.csv\"\n",
    "DFloans = spark.read.csv(file,header=True)\n",
    "#DFmanifestations.show(20, False)"
   ]
  },
  {
   "cell_type": "code",
   "execution_count": 30,
   "id": "7913318e-5b39-4813-8952-2fb33b764013",
   "metadata": {},
   "outputs": [
    {
     "name": "stderr",
     "output_type": "stream",
     "text": [
      "/usr/local/share/jupyter/kernels/pyspark_yarn/bdkernelyarn.py:122: VisibleDeprecationWarning: Passing `normed=True` on non-uniform bins has always been broken, and computes neither the probability density function nor the probability mass function. The result is only correct if the bins are uniform, when density=True will produce the same result anyway. The argument will be removed in a future version of numpy.\n"
     ]
    }
   ],
   "source": [
    "#PLOTS CELL\n",
    "if False:\n",
    "    import numpy as np\n",
    "    from itertools import accumulate\n",
    "    import matplotlib.pyplot as plt\n",
    "    from matplotlib import rcParams\n",
    "    size = 30\n",
    "    f = 1\n",
    "    rcParams['figure.figsize'] = 12.6*f, 7*f\n",
    "    rcParams['xtick.labelsize'] = size\n",
    "    rcParams['ytick.labelsize'] = size\n",
    "    rcParams['font.size'] = size\n",
    "    rcParams[\"font.sans-serif\"] = [\"Liberation Sans\"]\n",
    "    rcParams[\"font.family\"] = \"sans-serif\"\n",
    "    rcParams.update({'figure.autolayout': True})\n",
    "    rcParams['pdf.fonttype'] = 42\n",
    "    rcParams['ps.fonttype'] = 42\n",
    "    if False:\n",
    "        #PLOT FOR CDF\n",
    "        DFloans_grouped = DFloans.groupBy('patron_id_md5').count()\n",
    "        DFloans_grouped.show(1, False)\n",
    "        DFloans_pandas = DFloans_grouped.toPandas()['count'].to_list()\n",
    "\n",
    "        import numpy as np\n",
    "        data = np.asarray(DFloans_pandas)\n",
    "\n",
    "        count, bins_count = np.histogram(data, bins=10)\n",
    "        pdf = count/sum(count)\n",
    "        cdf = np.cumsum(pdf)\n",
    "        plt.figure()\n",
    "        plt.plot(bins_count[1:], cdf, label=\"CDF\")\n",
    "        plt.legend()\n",
    "        plt.show()\n",
    "\n",
    "\n",
    "        #PLOT FOR TYPE OBJECT OCCURRENCES\n",
    "\n",
    "        DFitems_joined = DFitems.join(DFtypes, DFtypes.item_media_id == DFitems.item_media_id)\n",
    "        DFitems_total_number = DFitems.count()\n",
    "        DFitems_types_grouped = DFitems_joined.groupBy('item_media').count()\n",
    "\n",
    "        list_item_media = DFitems_types_grouped.toPandas()['item_media'].to_list()\n",
    "        list_counts = DFitems_types_grouped.toPandas()['count'].to_list()\n",
    "\n",
    "        list_counts = [item/DFitems_total_number for item in list_counts]\n",
    "\n",
    "        plt.figure()\n",
    "        plt.bar(list_item_media, list_counts)\n",
    "        plt.xticks(rotation='vertical')\n",
    "        plt.ylabel('Occurrences (%)')\n",
    "        plt.savefig('000_types_occurrences.pdf', bbox_inches='tight')\n",
    "        plt.close()\n",
    "\n",
    "        #PLOT FOR BCT SUBSCRIPTIONS\n",
    "        years = ['2001', '2002', '2003', '2004', '2005', '2006', '2007', '2008', '2009', '2010', '2011', '2012', '2013', '2014', '2015', '2016', '2017', '2018', '2019', '2020', '2021']\n",
    "        genre_users_years = {}\n",
    "\n",
    "        for year in years:\n",
    "            count = DFusers.filter(DFusers.date_created.contains(year)).count()\n",
    "            genre_users_years[year] = count\n",
    "        print(genre_users_years)\n",
    "\n",
    "        names = list(genre_users_years.keys())\n",
    "        values = list(genre_users_years.values())\n",
    "\n",
    "        plotting = plt.bar(names, values)\n",
    "        plt.xticks(rotation='vertical')\n",
    "        plt.ylabel('Number of subscribed users')\n",
    "        plt.savefig('001_BCT_subscribers.pdf', bbox_inches='tight')\n",
    "        plt.close()\n",
    "\n",
    "        #PLOT FOR BOOKS LANGUAGES (TOP 5)\n",
    "        file = \"/data/SMARTDATA/books/BCT_prestiti/manifestations.csv\"\n",
    "        DFmanifestations = spark.read.csv(file,header=True)\n",
    "        languages = ['Italian', 'English', 'French', 'German', 'Spanish']\n",
    "        languages_2 = ['ita', 'eng', 'fre', 'ger', 'spa']\n",
    "\n",
    "        genre_users_languages = {}\n",
    "\n",
    "        for language, language2 in zip(languages, languages_2):\n",
    "            count = DFmanifestations.filter(DFmanifestations.edition_language.contains(language2)).count()\n",
    "            genre_users_languages[language] = count\n",
    "        print(genre_users_languages)\n",
    "\n",
    "        names = list(genre_users_languages.keys())\n",
    "        values = list(genre_users_languages.values())\n",
    "\n",
    "        plotting = plt.bar(names, values)\n",
    "        plt.xticks(rotation='vertical')\n",
    "        plt.ylabel('Number of books')\n",
    "        plt.savefig('002_top5_languages_BCT.pdf', bbox_inches='tight')\n",
    "        plt.close()\n",
    "\n",
    "        #PLOT FOR BOOKS IN LIBRARIES\n",
    "        file = \"/data/SMARTDATA/books/BCT_prestiti/libraries.csv\"\n",
    "        DFlibraries = spark.read.csv(file,header=True)\n",
    "        file = \"/data/SMARTDATA/books/BCT_prestiti/items.csv\"\n",
    "        DFmanifestations = spark.read.csv(file,header=True)\n",
    "\n",
    "        DFjoined = DFmanifestations.join(DFlibraries, DFlibraries.library_id == DFmanifestations.home_library_id)\n",
    "        DFcounting = DFjoined.groupBy('library_name').count().orderBy('count', ascending=False)\n",
    "        DFcounting.show(10, False)\n",
    "\n",
    "        DFcounting_pandas = DFcounting.toPandas()\n",
    "\n",
    "        list_libraries = DFcounting_pandas['library_name'].to_list()\n",
    "        list_counts = DFcounting_pandas['count'].to_list()\n",
    "\n",
    "        plotting = plt.bar(list_libraries, list_counts)\n",
    "        plt.xticks(rotation='vertical')\n",
    "        plt.ylabel('Number of books')\n",
    "        plt.savefig('003_book_bct_libraries.pdf', bbox_inches='tight')\n",
    "        plt.close()\n",
    "\n",
    "        #CDF loans\n",
    "        file = \"/data/SMARTDATA/books/BCT_prestiti/loans.csv\"\n",
    "        DF = spark.read.csv(file,header=True)\n",
    "        #print(\"There are \"+str(DF.count())+\" ratings\")\n",
    "        prova = DF.groupby(DF.patron_id_md5).count().toPandas()\n",
    "        #print(\"BCT the mean is \"+str(prova['count'].mean()))\n",
    "        #print(\"BCT the median is \"+str(prova['count'].median()))\n",
    "        # USE numpy's HISTOGRAM FUNCTION TO COMPUTE BINS\n",
    "        xhBCT, xbBCT = np.histogram(prova['count'], bins=6000, normed=True)\n",
    "        # COMPUTE THE CUMULATIVE SUM WITH accumulate\n",
    "        xhBCT = list(accumulate(xhBCT))\n",
    "        # NORMALIZE THE RESULT\n",
    "        xhBCT = np.array(xhBCT) / max(xhBCT)\n",
    "\n",
    "        if False:\n",
    "            file = \"/data/SMARTDATA/books/anobii_2021/sql/link_person_item.csv\"\n",
    "            DF = spark.read.csv(file,header=True)\n",
    "            #print(\"There are \"+str(DF.count())+\" ratings\")\n",
    "            prova = DF.groupby(DF.person_id).count().toPandas()\n",
    "            #print(\"the mean is \"+str(prova['count'].mean()))\n",
    "            #print(\"the median is \"+str(prova['count'].median()))\n",
    "            # fig,ax = plt.subplots()\n",
    "            # USE numpy's HISTOGRAM FUNCTION TO COMPUTE BINS\n",
    "            xh, xb = np.histogram(prova['count'], bins=6000, normed=True)\n",
    "            # COMPUTE THE CUMULATIVE SUM WITH accumulate\n",
    "            xh = list(accumulate(xh))\n",
    "\n",
    "            # NORMALIZE THE RESULT\n",
    "            xh = np.array(xh) / max(xh)\n",
    "        fig,ax = plt.subplots()\n",
    "        # PLOT WITH LABEL\n",
    "        #ax.plot(xb[1:], xh, label=\"Anobii\")\n",
    "        ax.plot(xbBCT[1:], xhBCT, label=\"BCT\")\n",
    "        #ax.grid()\n",
    "        #ax.legend()\n",
    "        ax.set_xlim(-20, 3000)#10000)\n",
    "        ax.set_ylim(0.0, 1.1)\n",
    "        #ax.set_title(\"CDF of Loans per User\")\n",
    "        ax.set_xlabel(\"Loans per User\")\n",
    "        ax.set_ylabel(\"CDF\")\n",
    "        #ax.legend(frameon=False)\n",
    "        plt.savefig(\"004_cdfLoansPerUserBCT.pdf\",\\\n",
    "                            # bbox_extra_artists=(first_legend,second_legend), \\\n",
    "                            bbox_inches='tight')\n",
    "        plt.close()"
   ]
  },
  {
   "cell_type": "code",
   "execution_count": null,
   "id": "nervous-ozone",
   "metadata": {},
   "outputs": [
    {
     "name": "stderr",
     "output_type": "stream",
     "text": [
      "                                                                                \r"
     ]
    },
    {
     "name": "stdout",
     "output_type": "stream",
     "text": [
      "Togli oggetti inutili: Prima 290125  - Dopo 257054\n"
     ]
    },
    {
     "name": "stderr",
     "output_type": "stream",
     "text": [
      "                                                                                \r"
     ]
    },
    {
     "name": "stdout",
     "output_type": "stream",
     "text": [
      "Togli libri in lingua straniera: Prima 290125  - Dopo 228059\n"
     ]
    },
    {
     "name": "stderr",
     "output_type": "stream",
     "text": [
      "[Stage 248:==========================================>              (3 + 1) / 4]"
     ]
    },
    {
     "name": "stdout",
     "output_type": "stream",
     "text": [
      "Togli Fumetti: Prima 290125  - Dopo 227749\n"
     ]
    },
    {
     "name": "stderr",
     "output_type": "stream",
     "text": [
      "                                                                                \r"
     ]
    }
   ],
   "source": [
    "#############################################\n",
    "#   this part remove from manifestation     #\n",
    "#              items and loans              #\n",
    "#    things that are not manuscript and     #\n",
    "#             monografie                    #\n",
    "#############################################\n",
    "DFtypesitems = DFtypes.join(DFitems, DFitems.item_media_id == DFtypes.item_media_id).drop(DFitems.item_media_id)\n",
    "\n",
    "#Remove in DFitems books of types we are not intersted in\n",
    "DFitems_filtered_obj = DFitems.filter((DFitems.item_media_id ==\"B\") | (DFitems.item_media_id == \"F\"))\n",
    "\n",
    "# tale manifestation_if of books that are kept\n",
    "manifestation_id_to_keep =  DFitems_filtered_obj.select('manifestation_id').distinct()\n",
    "\n",
    "#Remove in DFloans loans of books of types we are not intersted in\n",
    "DFloans_filtered_obj = DFloans.join(DFitems_filtered_obj, DFloans[\"item_id\"] == DFitems_filtered_obj[\"item_id\"], \"leftsemi\")\n",
    "\n",
    "#Remove in DFmanifestations books of types we are not intersted in\n",
    "DFmanifestations_filtered_obj = DFmanifestations.join(manifestation_id_to_keep, \\\n",
    "                                                  DFmanifestations[\"manifestation_id\"] == manifestation_id_to_keep[\"manifestation_id\"], \"leftsemi\")\n",
    "# DFmanifestations_filtered.show()\n",
    "print(\"Togli oggetti inutili: Prima \"+str(DFmanifestations.count())+\"  - Dopo \"+str(DFmanifestations_filtered_obj.count())) \n",
    "#Prima 290125  - Dopo 257054\n",
    "\n",
    "#############################################\n",
    "#  this part remove books which are not     #\n",
    "#                 in italian                #\n",
    "#       and Topolino and Dylan Dog          #\n",
    "#############################################\n",
    "#I checked that the possibilities are ITA or ita for the italian language\n",
    "#remove in DFmanifestation\n",
    "DFmanifestations_filtered_ita = DFmanifestations_filtered_obj.filter( (DFmanifestations_filtered_obj.edition_language == \"ITA\") |\\\n",
    "                                                                 (DFmanifestations_filtered_obj.edition_language == \"ita\") )\n",
    "# DFmanifestations_filtered.show()\n",
    "print(\"Togli libri in lingua straniera: Prima \"+str(DFmanifestations.count())+\"  - Dopo \"+str(DFmanifestations_filtered_ita.count())) \n",
    "DFmanifestations_filtered_comics = DFmanifestations_filtered_ita.filter(~((DFmanifestations_filtered_ita.title.contains(\"Topolino\")) |\n",
    "                                                               (DFmanifestations_filtered_ita.title.contains(\"Zagor\")) |\n",
    "                                                               (DFmanifestations_filtered_ita.title.contains(\"Dylan Dog\")) | \n",
    "                                                               (DFmanifestations_filtered_ita.title.contains(\"Tex\")) | \n",
    "                                                               (DFmanifestations_filtered_ita.title.contains(\"Paperino\")) | \n",
    "                                                               (DFmanifestations_filtered_ita.title.contains(\"Disney   Big\"))))\n",
    "\n",
    "#DFmanifestations_filtered_ita.filter(DFmanifestations_filtered_ita.title.contains(\"l\")).show(20, False)\n",
    "print(\"Togli Fumetti: Prima \"+str(DFmanifestations.count())+\"  - Dopo \"+str(DFmanifestations_filtered_comics.count())) \n",
    "DFitems_filtered_comics = DFitems_filtered_obj.join(DFmanifestations_filtered_comics, DFmanifestations_filtered_comics[\"manifestation_id\"] == DFitems_filtered_obj[\"manifestation_id\"], \\\n",
    "                                                    \"leftsemi\")\n",
    "DFloans_filtered_comics = DFloans_filtered_obj.join(DFitems_filtered_comics, DFloans_filtered_obj[\"item_id\"] == DFitems_filtered_comics[\"item_id\"], \\\n",
    "                                                    \"leftsemi\")"
   ]
  },
  {
   "cell_type": "code",
   "execution_count": null,
   "id": "prescription-density",
   "metadata": {},
   "outputs": [
    {
     "name": "stderr",
     "output_type": "stream",
     "text": [
      "                                                                                \r"
     ]
    }
   ],
   "source": [
    "#PULIZIA AUTORI E TITOLI\n",
    "def mapping(line):\n",
    "    author_cleaned = line.author #AUTORI CON UN SOLO NOME (DI SOLITO PSEUDONIMI)\n",
    "    string_value = str(line.ISBNISSN).split(\" \")[0]\n",
    "    ISBNISSN = ''.join(ch for ch in string_value if ch.isalnum())\n",
    "    if line.author != None:\n",
    "        if len(line.author.split(\" - \")) != 1: #AUTORI MULTIPLI\n",
    "            author_cleaned = \"\"\n",
    "            count = 0\n",
    "            for author in line.author.split(\" - \"):\n",
    "                count += 1\n",
    "                if len(author.split(\", \")) == 2:\n",
    "                    if count != len(line.author.split(\" - \")):\n",
    "                        author_cleaned += author.split(\", \")[1] + \" \" + author.split(\", \")[0] + \" - \"\n",
    "                    else:\n",
    "                        author_cleaned += author.split(\", \")[1] + \" \" + author.split(\", \")[0]\n",
    "                else:\n",
    "                    if count != len(line.author.split(\" - \")):\n",
    "                        author_cleaned += author.split(\", \")[0] + \" - \"\n",
    "                    else:\n",
    "                        author_cleaned += author.split(\", \")[0]\n",
    "        else:\n",
    "            if len(line.author.split(\",\")) == 2: #AUTORI CON NOME E COGNOME SEMPLICI\n",
    "                author_cleaned = line.author.split(\", \")[1] + \" \" + line.author.split(\", \")[0]\n",
    "            \n",
    "    else: #L'autore è contenuto nel titolo e non nel campo autore\n",
    "        author_cleaned = \"\"\n",
    "        title_zone_temp = line.title.split(\" ; \")[0]\n",
    "        if len(title_zone_temp.split(\" / \")) == 2:\n",
    "            if len(title_zone_temp.split(\" / \")[1].split(\" e \")) > 1: #AUTORI SEPARATI DA CONGIUNZIONE E\n",
    "                title_zone = title_zone_temp.split(\" / \")[1].split(\" e \")\n",
    "                count = 0\n",
    "                for part in title_zone:\n",
    "                    count += 1\n",
    "                    if count > 1 and count <= len(title_zone):\n",
    "                        author_cleaned += \" - \"\n",
    "                    words = part.split(\" \")\n",
    "                    count_word = 0 \n",
    "                    for word in words:\n",
    "                        count_word += 1\n",
    "                        string_word = str(word)\n",
    "                        if len(string_word) > 0:\n",
    "                            if string_word[0].strip(\" [\").isupper() == True:\n",
    "                                if count_word == len(words):\n",
    "                                    author_cleaned += string_word\n",
    "                                else:\n",
    "                                    author_cleaned += string_word + \" \"\n",
    "                if author_cleaned.startswith(\" -\"): #NEL CASO CI FOSSE UNA \"e\" CHE NON SEPARA DUE AUTORI\n",
    "                    author_cleaned = author_cleaned.replace(\" -\", \"\")\n",
    "            else:\n",
    "                title_zone = title_zone_temp.split(\" / \")[1].replace(\"[\", \"\").split(\" \")\n",
    "                if len(title_zone) > 0:\n",
    "                    count = 0\n",
    "                    for word in title_zone:\n",
    "                        string_word = str(word)\n",
    "                        count += 1\n",
    "                        if len(string_word) > 0:\n",
    "                            if string_word[0].isupper() == True:\n",
    "                                if count == len(title_zone):\n",
    "                                    author_cleaned += string_word\n",
    "                                else:\n",
    "                                    author_cleaned += string_word + \" \"\n",
    "                        if len(author_cleaned.split(\", \")) > 1: #Autori multipli con virgola\n",
    "                            templist = author_cleaned.split(\", \")\n",
    "                            author_cleaned = \"\"\n",
    "                            for author in templist:\n",
    "                                string_word = str(author)\n",
    "                                count += 1\n",
    "                                if len(string_word) > 0:\n",
    "                                    if string_word[0].isupper() == True:\n",
    "                                        if count == len(title_zone):\n",
    "                                            author_cleaned += string_word\n",
    "                                        else:\n",
    "                                            author_cleaned += string_word + \" - \"\n",
    "    if author_cleaned.startswith(\" \"):\n",
    "        author_cleaned = author_cleaned.replace(\" \", \"\", 1)\n",
    "    author_cleaned = author_cleaned.replace(\"*\", \"\")\n",
    "    author_cleaned = author_cleaned.replace('\"', \"\")\n",
    "    author_cleaned = author_cleaned.replace(\":\", \"\")\n",
    "    author_cleaned = author_cleaned.replace(\"!\", \"\")\n",
    "    author_cleaned = author_cleaned.strip(' []*:') #PER PULIRE LE EVENTUALI PARENTESI QUADRE E SPAZI  \n",
    "    author_cleaned = re.sub('<[^>]+>', '', author_cleaned)\n",
    "    author_cleaned = author_cleaned.replace(\"<\", \"\")\n",
    "    author_cleaned = re.sub(' +',' ', author_cleaned)\n",
    "    author_cleaned = author_cleaned.replace(\"_\", \" \")\n",
    "    author_cleaned = author_cleaned.replace(\">\", \"\").strip(\" \")\n",
    "    \n",
    "    #NUOVE RIPULITURE SULL'AUTORE\n",
    "    author_cleaned = author_cleaned.replace(\"C. Collodi\", \"Carlo Collodi\").strip(\" \")\n",
    "    if author_cleaned == \"Collodi\":\n",
    "        author_cleaned = author_cleaned.replace(\"Collodi\", \"Carlo Collodi\").strip(\" \")\n",
    "    auhtor_cleaned = author_cleaned.replace(\"; \", \" - \")\n",
    "    author_cleaned = author_cleaned.strip(\".\")\n",
    "    author_cleaned = author_cleaned.strip(\" -\")\n",
    "    author_cleaned = author_cleaned.strip(\")\")\n",
    "    author_cleaned = author_cleaned.replace(\"...et\", \"\")\n",
    "    author_cleaned = author_cleaned.replace(\"[et\", \"\")\n",
    "    author_cleaned = author_cleaned.strip(\".\")\n",
    "    author_cleaned = author_cleaned.replace(\",\", \" - \").strip(\" \")\n",
    "    author_cleaned = author_cleaned.replace(\" -  \", \" - \").strip(\" \")\n",
    "    author_cleaned = author_cleaned.replace(\" -  - \", \" - \").strip(\" \")\n",
    "    if author_cleaned == \"Teresa Czerniewicz-Umer - Malgorzata OmilanowskaJerzy S. Majewski\":\n",
    "        author_cleaned = \"Teresa Czerniewicz-Umer - Malgorzata Omilanowska - Jerzy S. Majewski\"\n",
    "    if author_cleaned == \"Vittorio Marsiglia Carlo Missaglia\":\n",
    "        author_cleanded = \"Vittorio Marsiglia - Carlo Missaglia\"\n",
    "    if author_cleaned == \"Bert Hellinger - Gabriella Gabriele]Hövel\":\n",
    "        author_cleaned = \"Bert Hellinger - Gabriella Gabriele Hövel\"\n",
    "    \n",
    "    #PER ELIMINARE I REFUSI PIù FREQUENTI\n",
    "    title_cleaned = line.title.split(\" / \")[0]\n",
    "    title_cleaned = title_cleaned.replace(\"\\x89\", \"\").strip(\" \")\n",
    "    title_cleaned = title_cleaned.replace(\"\\x88\", \"\").strip(\" \")\n",
    "    title_cleaned = title_cleaned.replace(\"\\\\1\", \"\").strip(\" \")\n",
    "    title_cleaned = title_cleaned.replace(\"\\\\2\", \"\").strip(\" \")\n",
    "    title_cleaned = title_cleaned.replace('\"', \"\")\n",
    "    title_cleaned = title_cleaned.replace('[', \"\")\n",
    "    title_cleaned = title_cleaned.replace(\"\\\\\", \"\").strip(\" \")\n",
    "    title_cleaned = title_cleaned.replace(']', \"\")\n",
    "    title_cleaned = title_cleaned.replace('*', \"\")\n",
    "    title_cleaned = title_cleaned.replace('|', \"\")\n",
    "    title_cleaned = title_cleaned.replace(\"!:\", \"\").strip(\" \")\n",
    "    title_cleaned = title_cleaned.replace(\" : romanzo\", \"\")\n",
    "    return Row(line.manifestation_id, line.edition_language, line.edition_date,\n",
    "               title_cleaned, author_cleaned, line.publisher, ISBNISSN)\n",
    "\n",
    "def specialcasesmapping(line): #Casi strani disseminati nel Database che riparo manualmente\n",
    "    new_author = line.author\n",
    "    new_title = line.title\n",
    "    new_publisher = line.publisher\n",
    "    if line.manifestation_id == \"440293\":\n",
    "        new_author = \"Chiara Lossano\"\n",
    "    if line.manifestation_id == \"190617\":\n",
    "        new_author = \"Italo Calvino\"\n",
    "    if line.manifestation_id == \"430234\":\n",
    "        new_publisher = None\n",
    "        new_author = \"Philip Roth\"\n",
    "        new_title = \"«Ho sempre voluto che ammiraste il mio digiuno» ovvero, guardando Kafka\"\n",
    "    if line.manifestation_id == \"427622\":\n",
    "        new_author = \"Shí Héng Chán - Shì Héng Díng\"\n",
    "    return Row(line.manifestation_id, line.edition_language, line.edition_date,\n",
    "                   new_title, new_author, line.publisher, line.ISBNISSN)\n",
    "\n",
    "#clean title and authors\n",
    "DFmanifestations_filtered_comics = DFmanifestations_filtered_comics.rdd.map(lambda x:mapping(x, ))\\\n",
    "                                .toDF([\"manifestation_id\",\"edition_language\",\"edition_date\",\"title\",\"author\",\"publisher\", \"ISBNISSN\"])\n",
    "DFmanifestations_filtered = DFmanifestations_filtered_comics.rdd.map(lambda x:specialcasesmapping(x, ))\\\n",
    "                                .toDF([\"manifestation_id\",\"edition_language\",\"edition_date\",\"title\",\"author\",\"publisher\", \"ISBNISSN\"])\n",
    "# DFmanifestations_filtered.show(20, False)\n",
    "\n",
    "#remove row which does not have the author\n",
    "DFmanifestations_filtered = DFmanifestations_filtered.filter(DFmanifestations_filtered.author != \"\")"
   ]
  },
  {
   "cell_type": "code",
   "execution_count": null,
   "id": "08c3a3f0-6355-4bdb-a092-d36e9830acf7",
   "metadata": {},
   "outputs": [
    {
     "name": "stderr",
     "output_type": "stream",
     "text": [
      "22/11/19 23:22:32 WARN sql.Column: Constructing trivially true equals predicate, 'manifestation_id_new#2219 = manifestation_id_new#2219'. Perhaps you need to use aliases.\n",
      "[Stage 229:===================================================> (196 + 4) / 200]"
     ]
    },
    {
     "name": "stdout",
     "output_type": "stream",
     "text": [
      "prefiltrati: 218419 - filtrati: 17947\n"
     ]
    },
    {
     "name": "stderr",
     "output_type": "stream",
     "text": [
      "                                                                                \r"
     ]
    }
   ],
   "source": [
    "#############################################\n",
    "#     this part gives to the same title     # \n",
    "#       the same manifestation_id_new       #\n",
    "#                SOLO TITOLO                #\n",
    "#############################################\n",
    "\n",
    "#DFmanifestations_filtered.filter(DFmanifestations_filtered.title == \"Il mio credo\").show(20, False)\n",
    "# DFmanifestations_filtered.filter(DFmanifestations_filtered.title == \"Il mio credo\").show()\n",
    "DFmanifestations_filtered_title = DFmanifestations_filtered.select(\n",
    "    \"*\",\n",
    "    F.min('manifestation_id').over(Window.partitionBy('title')).alias('manifestation_id_new')\n",
    ")\n",
    "# DFmanifestations_filtered_title.filter(DFmanifestations_filtered.title == \"Il mio credo\").show()\n",
    "\n",
    "DFmanifestations_filtered_title = DFmanifestations_filtered_title.select(\n",
    "    \"*\",\n",
    "    F.min('ISBNISSN').over(Window.partitionBy('title')).alias('ISBNISSN_new')\n",
    ")\n",
    "# DFmanifestations_filtered.show()\n",
    "# DFmanifestations_filtered_title.filter(DFmanifestations_filtered.title == \"Il mio credo\").show()\n",
    "\n",
    "#############################################\n",
    "#    this part to remove books with less    # \n",
    "#              than 50 loans                #\n",
    "#############################################\n",
    "#add manifestation_id_new in the item table\n",
    "# DFitems.join(DFmanifestations_filtered, ['manifestation_id']).show()\n",
    " #remove the rows in DFitems but not in DFmanifestation\n",
    "DFitems_tmp_title = DFitems.join(DFmanifestations_filtered_title, ['manifestation_id'])\n",
    "#remove useless (in this part) columns\n",
    "col_to_drop_title = (\"manifestation_id\", \"title\", \"author\", \"publisher\", \"home_library_id\", \"inventory_date\", \"edition_language\", \"item_media_id\", \"edition_date\")\n",
    "DFitems_dropped_title = DFitems_tmp_title.drop(*col_to_drop_title)\n",
    "# DFitems_dropped_title.show()\n",
    "\n",
    "#add manifestation_id_new in the loan table\n",
    "# DFitems.join(DFmanifestations_filtered, ['manifestation_id']).show()\n",
    "DFloans_tmp_title = DFloans.join(DFitems_dropped_title, ['item_id'])\n",
    "# DFloans_tmp.show()\n",
    "\n",
    "#remove useless (in this part) columns\n",
    "col_to_drop_title = (\"patron_id_md5\", \"loan_date_begin\", \"loan_date_end\", \"due_date\", \"from_library\", \"to_library\", \"end_library\")\n",
    "DFloans_dropped_title = DFloans_tmp_title.drop(*col_to_drop_title)\n",
    "# DFloans_dropped_title.show()\n",
    "\n",
    "#groupby sui loans e conteggio prestiti di ogni libro N.B la groupby è fatta sul manifestation_id perchè voglio sapere di un libro e NON di UNA COPIA DI QUEL LIBRO!!!\n",
    "DFloans_with_item_id_counter_title = DFloans_dropped_title.groupBy(\"manifestation_id_new\").agg(F.count('manifestation_id_new').alias('counter'))#count().alias(\"counter\").show()\n",
    "# DFloans_with_item_id_counter.show()\n",
    "# DFloans_with_item_id_counter.filter(DFloans_with_item_id_counter.manifestation_id_new == 118878).show() #sette prestiti\n",
    "\n",
    "#select only manifestation_id_new with at least 50 loans\n",
    "DFloans_with_item_id_counter_morethan50_title = DFloans_with_item_id_counter_title.filter(DFloans_with_item_id_counter_title.counter >= 50).select(\"manifestation_id_new\").distinct()\n",
    "# DFloans_with_item_id_counter_morethan50.show()\n",
    "\n",
    "#join with DFmanifestation to keep in the manifestation table books with at least 50 loans\n",
    "DFmanifestations_filtered_aggregated_title = DFmanifestations_filtered_title.join(DFloans_with_item_id_counter_morethan50_title, \n",
    "                                                                      DFmanifestations_filtered_title[\"manifestation_id_new\"] == DFloans_with_item_id_counter_morethan50_title[\"manifestation_id_new\"],\n",
    "                                                                      \"leftsemi\")\n",
    "\n",
    "print(\"prefiltrati: \"+str(DFmanifestations_filtered.count())+\" - filtrati: \"+\\\n",
    "      str(DFmanifestations_filtered_aggregated_title.select(DFmanifestations_filtered_aggregated_title.manifestation_id_new).distinct().count())) #prefiltrati: 218419 - filtrati: 17947\n",
    "\n",
    "\n",
    "\n",
    "# DFmanifestations_filtered_aggregated.select(DFmanifestations_filtered_aggregated.author).toPandas().to_csv('author.csv')\n",
    "\n",
    "#############################################\n",
    "#     this part gives to the same title     # \n",
    "#       the same manifestation_id_new       #\n",
    "#           SOLO TITOLO E AUTORE            #\n",
    "#############################################\n",
    "# DFmanifestations_filtered.filter(DFmanifestations_filtered.title == \"Il mio credo\").show()\n",
    "column_list = ['title', 'author']\n",
    "from pyspark.sql.functions import col\n",
    "DFmanifestations_filtered_title_author = DFmanifestations_filtered.select(\n",
    "    \"*\",\n",
    "    F.min('manifestation_id').over(Window.partitionBy([col(x) for x in column_list])).alias('manifestation_id_new')\n",
    ")\n",
    "DFmanifestations_filtered_title_author = DFmanifestations_filtered_title_author.select(\n",
    "    \"*\",\n",
    "    F.min('ISBNISSN').over(Window.partitionBy([col(x) for x in column_list])).alias('ISBNISSN_new')\n",
    ")\n",
    "# DFmanifestations_filtered.show()\n",
    "# DFmanifestations_filtered_title_author.filter(DFmanifestations_filtered.title == \"Il mio credo\").show()\n",
    "\n",
    "#############################################\n",
    "#    this part is to find manifestation     # \n",
    "#         with less than 50 loans           #\n",
    "#############################################\n",
    "#add manifestation_id_new in the item table\n",
    "# DFitems.join(DFmanifestations_filtered, ['manifestation_id']).show()\n",
    " #remove the rows in DFitems but not in DFmanifestation\n",
    "DFitems_tmp_title_author = DFitems.join(DFmanifestations_filtered_title_author, ['manifestation_id'])\n",
    "#remove useless (in this part) columns\n",
    "col_to_drop_title_author = (\"manifestation_id\", \"title\", \"author\", \"publisher\", \"home_library_id\", \"inventory_date\", \"edition_language\", \"item_media_id\", \"edition_date\")\n",
    "DFitems_dropped_title_author = DFitems_tmp_title_author.drop(*col_to_drop_title_author)\n",
    "# DFitems_dropped_title_author.show()\n",
    "\n",
    "#add manifestation_id_new in the loan table\n",
    "# DFitems.join(DFmanifestations_filtered, ['manifestation_id']).show()\n",
    "DFloans_tmp_title_author = DFloans.join(DFitems_dropped_title_author, ['item_id'])\n",
    "# DFloans_tmp.show()\n",
    "\n",
    "#remove useless (in this part) columns\n",
    "col_to_drop_title_author = (\"patron_id_md5\", \"loan_date_begin\", \"loan_date_end\", \"due_date\", \"from_library\", \"to_library\", \"end_library\")\n",
    "DFloans_dropped_title_author = DFloans_tmp_title_author.drop(*col_to_drop_title_author)\n",
    "# DFloans_dropped_title_author.show()\n",
    "\n",
    "#groupby sui loans e conteggio prestiti di ogni libro N.B la groupby è fatta sul manifestation_id perchè voglio sapere di un libro e NON di UNA COPIA DI QUEL LIBRO!!!\n",
    "DFloans_with_item_id_counter_title_author = DFloans_dropped_title_author.groupBy(\"manifestation_id_new\").agg(F.count('manifestation_id_new').alias('counter'))#count().alias(\"counter\").show()\n",
    "# DFloans_with_item_id_counter.show()\n",
    "# DFloans_with_item_id_counter.filter(DFloans_with_item_id_counter.manifestation_id_new == 118878).show() #sette prestiti"
   ]
  },
  {
   "cell_type": "code",
   "execution_count": 41,
   "id": "db2deb39-d164-4570-9252-805aed52b244",
   "metadata": {},
   "outputs": [
    {
     "name": "stderr",
     "output_type": "stream",
     "text": [
      "22/12/02 19:39:31 WARN sql.Column: Constructing trivially true equals predicate, 'manifestation_id_new#5021 = manifestation_id_new#5021'. Perhaps you need to use aliases.\n",
      "22/12/02 19:40:32 WARN sql.Column: Constructing trivially true equals predicate, 'manifestation_id_new#5021 = manifestation_id_new#5021'. Perhaps you need to use aliases.\n"
     ]
    },
    {
     "name": "stdout",
     "output_type": "stream",
     "text": [
      "Manifestation prefiltrati: 218419 - filtrati: 42723\n"
     ]
    },
    {
     "name": "stderr",
     "output_type": "stream",
     "text": [
      "22/12/02 19:41:43 WARN sql.Column: Constructing trivially true equals predicate, 'manifestation_id_new#5021 = manifestation_id_new#5021'. Perhaps you need to use aliases.\n"
     ]
    },
    {
     "name": "stdout",
     "output_type": "stream",
     "text": [
      "Manifestation prefiltrati: 218419 - filtrati: 22807\n"
     ]
    },
    {
     "name": "stderr",
     "output_type": "stream",
     "text": [
      "22/12/02 19:43:01 WARN sql.Column: Constructing trivially true equals predicate, 'manifestation_id_new#5021 = manifestation_id_new#5021'. Perhaps you need to use aliases.\n"
     ]
    },
    {
     "name": "stdout",
     "output_type": "stream",
     "text": [
      "Manifestation prefiltrati: 218419 - filtrati: 14813\n"
     ]
    },
    {
     "name": "stderr",
     "output_type": "stream",
     "text": [
      "                                                                                \r"
     ]
    },
    {
     "name": "stdout",
     "output_type": "stream",
     "text": [
      "Manifestation prefiltrati: 218419 - filtrati: 10417\n"
     ]
    },
    {
     "name": "stderr",
     "output_type": "stream",
     "text": [
      "22/12/02 19:44:08 WARN sql.Column: Constructing trivially true equals predicate, 'manifestation_id_new#5021 = manifestation_id_new#5021'. Perhaps you need to use aliases.\n",
      "22/12/02 19:45:05 WARN sql.Column: Constructing trivially true equals predicate, 'manifestation_id_new#5021 = manifestation_id_new#5021'. Perhaps you need to use aliases.\n"
     ]
    },
    {
     "name": "stdout",
     "output_type": "stream",
     "text": [
      "Manifestation prefiltrati: 218419 - filtrati: 7621\n"
     ]
    },
    {
     "name": "stderr",
     "output_type": "stream",
     "text": [
      "22/12/02 19:46:22 WARN sql.Column: Constructing trivially true equals predicate, 'manifestation_id_new#5021 = manifestation_id_new#5021'. Perhaps you need to use aliases.\n"
     ]
    },
    {
     "name": "stdout",
     "output_type": "stream",
     "text": [
      "Manifestation prefiltrati: 218419 - filtrati: 5719\n"
     ]
    },
    {
     "name": "stderr",
     "output_type": "stream",
     "text": [
      "[Stage 676:=================================================>   (187 + 5) / 200]"
     ]
    },
    {
     "name": "stdout",
     "output_type": "stream",
     "text": [
      "Manifestation prefiltrati: 218419 - filtrati: 4365\n"
     ]
    },
    {
     "name": "stderr",
     "output_type": "stream",
     "text": [
      "                                                                                \r"
     ]
    }
   ],
   "source": [
    "#DEFAULT THRESHOLD 100 LOANS\n",
    "#list_books = []\n",
    "#for i in [20, 40, 60, 80, 100, 120, 140]: #FOR LOANS THRESHOLD PLOT\n",
    "\n",
    "\n",
    "#select only manifestation_id_new with at least 50 loans\n",
    "DFloans_with_item_id_counter_morethan50_title_author = DFloans_with_item_id_counter_title_author.filter(DFloans_with_item_id_counter_title_author.counter >= 100).select(\"manifestation_id_new\").\\\n",
    "                                                       distinct()\n",
    "# DFloans_with_item_id_counter_morethan50.show()\n",
    "\n",
    "#join with DFmanifestation to keep in the manifestation table books with at least 50 loans\n",
    "DFmanifestations_filtered_aggregated_title_author = DFmanifestations_filtered_title_author.join(DFloans_with_item_id_counter_morethan50_title_author, \n",
    "                                                                      DFmanifestations_filtered_title_author[\"manifestation_id_new\"] == DFloans_with_item_id_counter_morethan50_title_author[\"manifestation_id_new\"],\n",
    "                                                                      \"leftsemi\")\n",
    "list_books.append(DFmanifestations_filtered_aggregated_title_author.count())\n",
    "print(\"Manifestation prefiltrati: \"+str(DFmanifestations_filtered.count())+\" - filtrati: \"+\\\n",
    "      str(DFmanifestations_filtered_aggregated_title_author.select(DFmanifestations_filtered_aggregated_title_author.manifestation_id_new).distinct().count())) #prefiltrati: 218419 - filtrati: 18164\n",
    "\n",
    "# DFmanifestations_filtered_aggregated.select(DFmanifestations_filtered_aggregated.author).toPandas().to_csv('author.csv')"
   ]
  },
  {
   "cell_type": "code",
   "execution_count": 43,
   "id": "b630ecd0-29da-469c-af62-83bdae22bda8",
   "metadata": {},
   "outputs": [],
   "source": [
    "if False:\n",
    "    #PLOT BOOKS PER LOANS THRESHOLD\n",
    "    plt.figure()\n",
    "    plotting = plt.plot([20,40,60,80,100,120,140], list_books)\n",
    "    plt.xlabel('Loans threshold')\n",
    "    plt.ylabel('Number of books')\n",
    "    plt.savefig('005_loans_books_threshold.pdf', bbox_inches='tight')\n",
    "    plt.close()"
   ]
  },
  {
   "cell_type": "code",
   "execution_count": 23,
   "id": "b9304106-84b4-4bb9-84fa-c72ebbae4075",
   "metadata": {},
   "outputs": [
    {
     "name": "stderr",
     "output_type": "stream",
     "text": [
      "                                                                                \r"
     ]
    },
    {
     "name": "stdout",
     "output_type": "stream",
     "text": [
      "Item prefiltrati: 998403 - filtrati: 114921\n"
     ]
    },
    {
     "name": "stderr",
     "output_type": "stream",
     "text": [
      "[Stage 338:=================================================>   (128 + 9) / 137]"
     ]
    },
    {
     "name": "stdout",
     "output_type": "stream",
     "text": [
      "Loan prefiltrati: 5484078 - filtrati: 1445877\n"
     ]
    },
    {
     "name": "stderr",
     "output_type": "stream",
     "text": [
      "                                                                                \r"
     ]
    }
   ],
   "source": [
    "#to verify how many null and nan are present in the ISBNISSN_new, ISBNISSN field anymore\n",
    "# DFmanifestations_filtered_aggregated_title_author.select([count(when(isnan(c) | isnull(c), c)).alias(c) for c in [\"ISBNISSN\"]]).show()\n",
    "# DFmanifestations_filtered_aggregated_title_author.select([count(when(isnan(c) | isnull(c), c)).alias(c) for c in [\"ISBNISSN_new\"]]).show()\n",
    "# DFmanifestations.select([count(when(isnan(c) | isnull(c), c)).alias(c) for c in [\"ISBNISSN\"]]).show()\n",
    "\n",
    "DFmanifestations_final = DFmanifestations_filtered_aggregated_title_author\n",
    "DFitems_final = DFitems_filtered_comics.join(DFmanifestations_final, DFmanifestations_final[\"manifestation_id\"] == DFitems_filtered_comics[\"manifestation_id\"], \\\n",
    "                                                    \"leftsemi\")\n",
    "DFloans_final = DFloans_filtered_comics.join(DFitems_final, DFloans_filtered_comics[\"item_id\"] == DFitems_final[\"item_id\"], \\\n",
    "                                                    \"leftsemi\")\n",
    "\n",
    "print(\"Item prefiltrati: \"+str(DFitems.count())+\" - filtrati: \"+\\\n",
    "      str(DFitems_final.count())) #prefiltrati: 998403 - filtrati: 217405\n",
    "print(\"Loan prefiltrati: \"+str(DFloans.count())+\" - filtrati: \"+\\\n",
    "      str(DFloans_final.count())) #prefiltrati: 5484078 - filtrati: 2172971"
   ]
  },
  {
   "cell_type": "code",
   "execution_count": 24,
   "id": "fewer-alarm",
   "metadata": {},
   "outputs": [
    {
     "name": "stderr",
     "output_type": "stream",
     "text": [
      "[Stage 348:====================================================>(198 + 2) / 200]"
     ]
    },
    {
     "name": "stdout",
     "output_type": "stream",
     "text": [
      "i libri sono: 7621\n"
     ]
    },
    {
     "name": "stderr",
     "output_type": "stream",
     "text": [
      "                                                                                \r"
     ]
    }
   ],
   "source": [
    "#substitute manifestation_id with manifestation_id_new\n",
    "DFitems_definitive = DFitems_final.join(DFmanifestations_final,DFmanifestations_final[\"manifestation_id\"] == DFitems_final[\"manifestation_id\"], \"inner\")\\\n",
    "                                  .select(DFmanifestations_final.manifestation_id_new, \\\n",
    "                                          DFitems_final.item_id, \\\n",
    "                                          DFitems_final.item_media_id,\\\n",
    "                                          DFitems_final.home_library_id,\\\n",
    "                                          DFitems_final.inventory_date)\n",
    "# DFitems_definitive.show(2, False)\n",
    "#substitute manifestation_id with manifestation_id_new\n",
    "DFloans_definitive = DFloans_final.join(DFitems_definitive, DFitems_definitive[\"item_id\"] == DFloans_final[\"item_id\"], \"inner\")\\\n",
    "                                  .select(DFitems_definitive.manifestation_id_new, \\\n",
    "                                          DFloans_final.patron_id_md5, \\\n",
    "                                          DFloans_final.loan_date_begin,\\\n",
    "                                          DFloans_final.loan_date_end,\\\n",
    "                                          DFloans_final.due_date,\\\n",
    "                                          DFloans_final.from_library,\\\n",
    "                                          DFloans_final.to_library,\\\n",
    "                                          DFloans_final.end_library,)\n",
    "# DFloans_definitive.show(2, False)\n",
    "\n",
    "#DFmanifestations_definitive contains only manifestation_id and ISBNISSN\n",
    "DFmanifestations_definitive = DFmanifestations_final.groupby(\"manifestation_id_new\").agg(F.min(\"manifestation_id\").alias(\"manifestation_id\"),\\\n",
    "                                                                                         F.min(\"ISBNISSN\").alias(\"ISBNISSN\")).drop(\"manifestation_id_new\").drop(\"ISBNISSN_new\")#\\\n",
    "# DFmanifestations_final.show(2, False)\n",
    "# DFmanifestations_definitive.show(2, False)\n",
    "#per avere tutti gli attributi in DFmanifestations_definitive e togliere manifestation_id e ISBNISSN e tenere solo manifestation_id_new e ISBNISSN_new \n",
    "DFmanifestations_definitive = DFmanifestations_definitive.join(DFmanifestations_final, DFmanifestations_final[\"manifestation_id\"] == DFmanifestations_definitive[\"manifestation_id\"])\\\n",
    "                                                         .drop(DFmanifestations_final[\"manifestation_id\"]).drop(DFmanifestations_definitive[\"manifestation_id\"])\\\n",
    "                                                         .drop(DFmanifestations_final[\"ISBNISSN\"]).drop(DFmanifestations_definitive[\"ISBNISSN\"])\n",
    "# DFmanifestations_definitive.show(2, False)\n",
    "print(\"i libri sono: \"+str(DFmanifestations_definitive.count())) #--> i libri sono: 18164\n",
    "# DFmanifestations_definitive.count() deve essere uguale a DFmanifestations_final.select(\"manifestation_id_new\").distinct().count()"
   ]
  },
  {
   "cell_type": "code",
   "execution_count": 7,
   "id": "abandoned-tribe",
   "metadata": {},
   "outputs": [
    {
     "name": "stdout",
     "output_type": "stream",
     "text": [
      "+----------------+----------------+------------+---------+-------------+-----------+-------------+--------------------+------------+\n",
      "|manifestation_id|edition_language|edition_date|title    |author       |publisher  |ISBNISSN     |manifestation_id_new|ISBNISSN_new|\n",
      "+----------------+----------------+------------+---------+-------------+-----------+-------------+--------------------+------------+\n",
      "|658351          |ita             |2016        |Pinocchio|Carlo Collodi|Gribaudo   |9788858014554|107930              |8807820714  |\n",
      "|193757          |ita             |1972        |Pinocchio|Carlo Collodi|Feltrinelli|None         |107930              |8807820714  |\n",
      "|314571          |ita             |2006        |Pinocchio|Carlo Collodi|Giunti kids|9788809046085|107930              |8807820714  |\n",
      "+----------------+----------------+------------+---------+-------------+-----------+-------------+--------------------+------------+\n",
      "only showing top 3 rows\n",
      "\n",
      "+----------------+------------+---------+-------------+---------+--------------------+------------+\n",
      "|edition_language|edition_date|title    |author       |publisher|manifestation_id_new|ISBNISSN_new|\n",
      "+----------------+------------+---------+-------------+---------+--------------------+------------+\n",
      "|ita             |1996        |Pinocchio|Carlo Collodi|Nuages   |107930              |8807820714  |\n",
      "+----------------+------------+---------+-------------+---------+--------------------+------------+\n",
      "\n"
     ]
    }
   ],
   "source": [
    "# DFmanifestations_final.filter(DFmanifestations_final.title == \"Pinocchio\").show(3, False)\n",
    "# DFmanifestations_definitive.filter(DFmanifestations_definitive.title == \"Pinocchio\").show(3, False)"
   ]
  },
  {
   "cell_type": "code",
   "execution_count": 9,
   "id": "chubby-scoop",
   "metadata": {},
   "outputs": [],
   "source": [
    "#SAVE FILES\n",
    "DFmanifestations_definitive.toPandas().to_csv(\"manifestationCleaned.csv\")\n",
    "DFloans_definitive.toPandas().to_csv(\"loansCleaned.csv\")"
   ]
  },
  {
   "cell_type": "code",
   "execution_count": null,
   "id": "aa48602c-8337-44a7-8955-3a70dccb70a1",
   "metadata": {},
   "outputs": [],
   "source": []
  }
 ],
 "metadata": {
  "kernelspec": {
   "display_name": "PySpark (Yarn)",
   "language": "python",
   "name": "pyspark_yarn"
  },
  "language_info": {
   "codemirror_mode": {
    "name": "ipython",
    "version": 3
   },
   "file_extension": ".py",
   "mimetype": "text/x-python",
   "name": "python",
   "nbconvert_exporter": "python",
   "pygments_lexer": "ipython3",
   "version": "3.7.9"
  }
 },
 "nbformat": 4,
 "nbformat_minor": 5
}
